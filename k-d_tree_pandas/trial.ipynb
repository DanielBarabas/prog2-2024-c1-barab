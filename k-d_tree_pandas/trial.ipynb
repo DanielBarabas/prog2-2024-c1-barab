{
 "cells": [
  {
   "cell_type": "code",
   "execution_count": 1,
   "metadata": {},
   "outputs": [],
   "source": [
    "import pandas as pd\n",
    "import numpy as np\n",
    "from scipy import spatial\n",
    "import polars as pl\n",
    "import random\n",
    "import os"
   ]
  },
  {
   "cell_type": "code",
   "execution_count": 2,
   "metadata": {},
   "outputs": [],
   "source": [
    "weapons = [\"bomb\", \"rifle\", \"arrow\"]"
   ]
  },
  {
   "cell_type": "code",
   "execution_count": 89,
   "metadata": {},
   "outputs": [],
   "source": [
    "arr_random_input = np.random.default_rng().uniform(low=-100,high=100,size=[10_000_000,2])\n",
    "arr_random_query = np.random.default_rng().uniform(low=-100,high=100,size=[1000,2])\n",
    "df = pd.DataFrame(arr_random_input, columns=[\"x\",\"y\"])\n",
    "query_df = pd.DataFrame(arr_random_query, columns=[\"x\",\"y\"])\n",
    "df[\"weapon\"] = \"a\"\n",
    "df[\"weapon\"]=df.weapon.apply(lambda x:random.choice(weapons))\n",
    "df.to_parquet(\"notebook_results/input.parquet\")\n",
    "query_df.to_parquet(\"notebook_results/query.parquet\")"
   ]
  },
  {
   "attachments": {},
   "cell_type": "markdown",
   "metadata": {},
   "source": [
    "### This seems to work, have to create the algorithm for it"
   ]
  },
  {
   "cell_type": "code",
   "execution_count": 6,
   "metadata": {},
   "outputs": [],
   "source": [
    "# This is 20x better than the original\n",
    "tree = spatial.KDTree(df[[\"x\",\"y\"]])\n",
    "out = []\n",
    "for idx, row in query_df.iterrows():\n",
    "    out.append({\"dist\": tree.query(row)[0], \"weapon\": df.loc[tree.query(row)[1], \"weapon\"]})\n",
    "#pd.DataFrame(out).to_csv(\"notebook_results/out_tree.csv\", index=False)\n"
   ]
  },
  {
   "cell_type": "code",
   "execution_count": 7,
   "metadata": {},
   "outputs": [
    {
     "name": "stdout",
     "output_type": "stream",
     "text": [
      "869 ms ± 249 ms per loop (mean ± std. dev. of 7 runs, 1 loop each)\n"
     ]
    }
   ],
   "source": [
    "%%timeit\n",
    "tree = spatial.KDTree(df[[\"x\",\"y\"]])\n",
    "out = []\n",
    "for idx, row in query_df.iterrows():\n",
    "    out.append({\"dist\": tree.query(row)[0], \"weapon\": df.loc[tree.query(row)[1], \"weapon\"]})\n",
    "#pd.DataFrame(out).to_csv(\"notebook_results/out_tree.csv\", index=False)"
   ]
  },
  {
   "attachments": {},
   "cell_type": "markdown",
   "metadata": {},
   "source": [
    "try with polars"
   ]
  },
  {
   "cell_type": "code",
   "execution_count": 95,
   "metadata": {},
   "outputs": [],
   "source": [
    "query_df_p = pl.read_parquet(\"notebook_results/query.parquet\")\n",
    "df_p = pl.read_parquet(\"notebook_results/input.parquet\")"
   ]
  },
  {
   "cell_type": "code",
   "execution_count": 96,
   "metadata": {},
   "outputs": [],
   "source": [
    "#df_p = df_p.with_row_index(\"rownum\",0)"
   ]
  },
  {
   "cell_type": "code",
   "execution_count": 10,
   "metadata": {},
   "outputs": [],
   "source": [
    "tree = spatial.KDTree(df_p.select(\"x\",\"y\"))"
   ]
  },
  {
   "cell_type": "code",
   "execution_count": 11,
   "metadata": {},
   "outputs": [
    {
     "data": {
      "text/plain": [
       "array([904598], dtype=int64)"
      ]
     },
     "execution_count": 11,
     "metadata": {},
     "output_type": "execute_result"
    }
   ],
   "source": [
    "tree.query(query_df_p[1])[1]"
   ]
  },
  {
   "cell_type": "code",
   "execution_count": 12,
   "metadata": {},
   "outputs": [],
   "source": [
    "for row in query_df_p.iter_rows():\n",
    "    asd = df_p[int(tree.query(row)[1])][\"weapon\"]"
   ]
  },
  {
   "cell_type": "code",
   "execution_count": 13,
   "metadata": {},
   "outputs": [],
   "source": [
    "out = []\n",
    "for row in query_df_p.iter_rows():\n",
    "    out.append({\"dist\": tree.query(row)[0], \"weapon\": tree.query(row)[1]})"
   ]
  },
  {
   "cell_type": "code",
   "execution_count": 97,
   "metadata": {},
   "outputs": [],
   "source": [
    "tree = spatial.KDTree(df_p[[\"x\",\"y\"]])\n",
    "out = []\n",
    "for row in query_df_p.iter_rows():\n",
    "    out.append({\"dist\": tree.query(row)[0], \n",
    "                \"weapon\": df_p[int(tree.query(row)[1])][\"weapon\"].item()})"
   ]
  },
  {
   "cell_type": "code",
   "execution_count": 98,
   "metadata": {},
   "outputs": [
    {
     "name": "stdout",
     "output_type": "stream",
     "text": [
      "14.9 s ± 5.81 s per loop (mean ± std. dev. of 7 runs, 1 loop each)\n"
     ]
    }
   ],
   "source": [
    "%%timeit\n",
    "tree = spatial.KDTree(df_p[[\"x\",\"y\"]])\n",
    "out = []\n",
    "for row in query_df_p.iter_rows():\n",
    "    out.append({\"dist\": tree.query(row)[0], \n",
    "                \"weapon\": df_p[int(tree.query(row)[1])][\"weapon\"].item()})"
   ]
  },
  {
   "cell_type": "code",
   "execution_count": null,
   "metadata": {},
   "outputs": [],
   "source": [
    "tree = spatial.KDTree(df_p[[\"x\",\"y\"]])\n",
    "out = []\n",
    "for row in query_df_p.iter_rows():\n",
    "    out.append({\"dist\": tree.query(row)[0], \n",
    "                \"weapon\": df_p[int(tree.query(row)[1])][\"weapon\"].item()})\n",
    "    \n"
   ]
  },
  {
   "cell_type": "code",
   "execution_count": 105,
   "metadata": {},
   "outputs": [
    {
     "name": "stdout",
     "output_type": "stream",
     "text": [
      "[8758041]\n"
     ]
    }
   ],
   "source": [
    "asd = tree.query(query_df_p[0])[1]\n",
    "df_p[asd][\"weapon\"]\n",
    "print(asd)"
   ]
  },
  {
   "cell_type": "code",
   "execution_count": 114,
   "metadata": {},
   "outputs": [],
   "source": [
    "tree = spatial.KDTree(df_p[[\"x\",\"y\"]])\n",
    "out = [[\"dist\",\"weapon\"]]\n",
    "out = [[dist,df_p[int(idx)][\"weapon\"]] for dist, idx in\n",
    "        zip(tree.query(query_df_p)[0], tree.query(query_df_p)[1])]"
   ]
  },
  {
   "attachments": {},
   "cell_type": "markdown",
   "metadata": {},
   "source": [
    "# Cleanup trial"
   ]
  },
  {
   "cell_type": "code",
   "execution_count": 16,
   "metadata": {},
   "outputs": [
    {
     "data": {
      "text/plain": [
       "['cleanup',\n",
       " 'cleanup.py',\n",
       " 'compute',\n",
       " 'notebook_results',\n",
       " 'out.csv',\n",
       " 'preproc',\n",
       " 'preproc.py',\n",
       " 'requirements.txt',\n",
       " 'setup',\n",
       " 'src.py',\n",
       " 'trial.ipynb']"
      ]
     },
     "execution_count": 16,
     "metadata": {},
     "output_type": "execute_result"
    }
   ],
   "source": [
    "os.listdir()"
   ]
  },
  {
   "cell_type": "code",
   "execution_count": 17,
   "metadata": {},
   "outputs": [],
   "source": [
    "filelist = [ f for f in os.listdir() if f.endswith(\".parquet\") or f.endswith(\".pickle\")]"
   ]
  },
  {
   "cell_type": "code",
   "execution_count": 18,
   "metadata": {},
   "outputs": [
    {
     "data": {
      "text/plain": [
       "[]"
      ]
     },
     "execution_count": 18,
     "metadata": {},
     "output_type": "execute_result"
    }
   ],
   "source": [
    "filelist"
   ]
  },
  {
   "cell_type": "code",
   "execution_count": 19,
   "metadata": {},
   "outputs": [],
   "source": [
    "filelist = [ f for f in os.listdir() if f.endswith(\".parquet\") or \n",
    "            f.endswith(\".pickle\")]\n",
    "for f in filelist:\n",
    "    os.remove(f)"
   ]
  },
  {
   "cell_type": "markdown",
   "metadata": {},
   "source": [
    "# Try with numpy arrays"
   ]
  },
  {
   "cell_type": "code",
   "execution_count": 109,
   "metadata": {},
   "outputs": [],
   "source": [
    "input_array = df.to_numpy()\n",
    "query_array = query_df.to_numpy()\n"
   ]
  },
  {
   "cell_type": "code",
   "execution_count": 91,
   "metadata": {},
   "outputs": [],
   "source": [
    "tree = spatial.KDTree(input_array[:,0:2])\n",
    "out = []\n",
    "\n",
    "for row in query_array:\n",
    "    out.append({\"dist\": tree.query(row)[0], \n",
    "                \"weapon\": input_array[tree.query(row)[1]][2]})"
   ]
  },
  {
   "cell_type": "code",
   "execution_count": 92,
   "metadata": {},
   "outputs": [
    {
     "name": "stdout",
     "output_type": "stream",
     "text": [
      "12.1 s ± 817 ms per loop (mean ± std. dev. of 7 runs, 1 loop each)\n"
     ]
    }
   ],
   "source": [
    "%%timeit\n",
    "tree = spatial.KDTree(input_array[:,0:2])\n",
    "out = []\n",
    "\n",
    "for row in query_array:\n",
    "    out.append({\"dist\": tree.query(row)[0], \n",
    "                \"weapon\": input_array[tree.query(row)[1]][2]})"
   ]
  },
  {
   "cell_type": "code",
   "execution_count": 69,
   "metadata": {},
   "outputs": [],
   "source": [
    "tree = spatial.KDTree(input_array[:,0:2])\n",
    "out = []\n",
    "distances, indices = tree.query(query_array)\n",
    "out = [{\"dist\": dist, \"weapon\": input_array[idx][2]} for dist, idx in zip(distances, indices)]"
   ]
  },
  {
   "cell_type": "code",
   "execution_count": 83,
   "metadata": {},
   "outputs": [
    {
     "name": "stdout",
     "output_type": "stream",
     "text": [
      "878 ms ± 179 ms per loop (mean ± std. dev. of 7 runs, 1 loop each)\n"
     ]
    }
   ],
   "source": [
    "%%timeit\n",
    "tree = spatial.KDTree(input_array[:,0:2])\n",
    "out = []\n",
    "distances, indices = tree.query(query_array)\n",
    "out = [{\"dist\": dist, \"weapon\": input_array[idx][2]} for dist, idx in zip(distances, indices)]"
   ]
  },
  {
   "cell_type": "code",
   "execution_count": 93,
   "metadata": {},
   "outputs": [],
   "source": [
    "tree = spatial.KDTree(input_array[:,0:2])\n",
    "out = [[\"dist\",\"weapon\"]]\n",
    "distances, indices = tree.query(query_array)\n",
    "out = [[dist,input_array[idx][2]] for dist, idx in zip(distances, indices)]"
   ]
  },
  {
   "cell_type": "code",
   "execution_count": 94,
   "metadata": {},
   "outputs": [
    {
     "name": "stdout",
     "output_type": "stream",
     "text": [
      "11.2 s ± 530 ms per loop (mean ± std. dev. of 7 runs, 1 loop each)\n"
     ]
    }
   ],
   "source": [
    "%%timeit\n",
    "tree = spatial.KDTree(input_array[:,0:2])\n",
    "out = [[\"dist\",\"weapon\"]]\n",
    "distances, indices = tree.query(query_array)\n",
    "out = [[dist,input_array[idx][2]] for dist, idx in zip(distances, indices)]"
   ]
  },
  {
   "cell_type": "code",
   "execution_count": null,
   "metadata": {},
   "outputs": [],
   "source": []
  }
 ],
 "metadata": {
  "kernelspec": {
   "display_name": "Python 3",
   "language": "python",
   "name": "python3"
  },
  "language_info": {
   "codemirror_mode": {
    "name": "ipython",
    "version": 3
   },
   "file_extension": ".py",
   "mimetype": "text/x-python",
   "name": "python",
   "nbconvert_exporter": "python",
   "pygments_lexer": "ipython3",
   "version": "3.11.5"
  },
  "orig_nbformat": 4
 },
 "nbformat": 4,
 "nbformat_minor": 2
}
