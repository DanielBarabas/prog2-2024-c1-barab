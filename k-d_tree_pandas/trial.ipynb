{
 "cells": [
  {
   "cell_type": "code",
   "execution_count": 2,
   "metadata": {},
   "outputs": [],
   "source": [
    "import pandas as pd\n",
    "import numpy as np\n",
    "from scipy import spatial\n",
    "import math\n",
    "import polars as pl\n",
    "import csv\n",
    "import random\n",
    "import tqdm"
   ]
  },
  {
   "cell_type": "code",
   "execution_count": 3,
   "metadata": {},
   "outputs": [],
   "source": [
    "weapons = [\"bomb\", \"rifle\", \"arrow\"]"
   ]
  },
  {
   "cell_type": "code",
   "execution_count": 5,
   "metadata": {},
   "outputs": [],
   "source": [
    "arr_random_input = np.random.default_rng().uniform(low=-100,high=100,size=[1000000,2])\n",
    "arr_random_query = np.random.default_rng().uniform(low=-100,high=100,size=[1000,2])\n",
    "df = pd.DataFrame(arr_random_input, columns=[\"x\",\"y\"])\n",
    "query_df = pd.DataFrame(arr_random_query, columns=[\"x\",\"y\"])\n",
    "df[\"weapon\"] = \"a\"\n",
    "df[\"weapon\"]=df.weapon.apply(lambda x:random.choice(weapons))\n",
    "df.to_parquet(\"notebook_results/input.parquet\")\n",
    "query_df.to_parquet(\"notebook_results/query.parquet\")"
   ]
  },
  {
   "attachments": {},
   "cell_type": "markdown",
   "metadata": {},
   "source": [
    "### This seems to work, have to create the algorithm for it"
   ]
  },
  {
   "cell_type": "code",
   "execution_count": null,
   "metadata": {},
   "outputs": [],
   "source": [
    "out = []\n",
    "for idx, row in query_df.iterrows():\n",
    "\n",
    "    diffs = (df[[\"x\", \"y\"]] - row).pipe(lambda df: df**2).sum(axis=1)\n",
    "    out.append({\"dist\": math.sqrt(diffs.min()), \"weapon\": df.loc[diffs.argmin(), \"weapon\"]})\n",
    "pd.DataFrame(out).to_csv(\"notebook_results/out.csv\", index=False)"
   ]
  },
  {
   "cell_type": "code",
   "execution_count": 46,
   "metadata": {},
   "outputs": [
    {
     "name": "stdout",
     "output_type": "stream",
     "text": [
      "2.24 s ± 249 ms per loop (mean ± std. dev. of 7 runs, 1 loop each)\n"
     ]
    }
   ],
   "source": [
    "%%timeit\n",
    "out = []\n",
    "for idx, row in query_df.iterrows():\n",
    "\n",
    "    diffs = (df[[\"x\", \"y\"]] - row).pipe(lambda df: df**2).sum(axis=1)\n",
    "    out.append({\"dist\": math.sqrt(diffs.min()), \"weapon\": df.loc[diffs.argmin(), \"weapon\"]})\n",
    "pd.DataFrame(out).to_csv(\"notebook_results/out.csv\", index=False)"
   ]
  },
  {
   "cell_type": "code",
   "execution_count": 6,
   "metadata": {},
   "outputs": [],
   "source": [
    "# This is 20x better than the original\n",
    "tree = spatial.KDTree(df[[\"x\",\"y\"]])\n",
    "out = []\n",
    "for idx, row in query_df.iterrows():\n",
    "    out.append({\"dist\": tree.query(row)[0], \"weapon\": df.loc[tree.query(row)[1], \"weapon\"]})\n",
    "#pd.DataFrame(out).to_csv(\"notebook_results/out_tree.csv\", index=False)\n"
   ]
  },
  {
   "cell_type": "code",
   "execution_count": 14,
   "metadata": {},
   "outputs": [
    {
     "name": "stdout",
     "output_type": "stream",
     "text": [
      "379 ms ± 3.75 ms per loop (mean ± std. dev. of 7 runs, 1 loop each)\n"
     ]
    }
   ],
   "source": [
    "%%timeit\n",
    "tree = spatial.KDTree(df[[\"x\",\"y\"]])\n",
    "out = []\n",
    "for idx, row in query_df.iterrows():\n",
    "    out.append({\"dist\": tree.query(row)[0], \"weapon\": df.loc[tree.query(row)[1], \"weapon\"]})\n",
    "#pd.DataFrame(out).to_csv(\"notebook_results/out_tree.csv\", index=False)"
   ]
  },
  {
   "attachments": {},
   "cell_type": "markdown",
   "metadata": {},
   "source": [
    "try with polars"
   ]
  },
  {
   "cell_type": "code",
   "execution_count": 8,
   "metadata": {},
   "outputs": [],
   "source": [
    "query_df_p = pl.read_parquet(\"notebook_results/query.parquet\")\n",
    "df_p = pl.read_parquet(\"notebook_results/input.parquet\")"
   ]
  },
  {
   "cell_type": "code",
   "execution_count": 9,
   "metadata": {},
   "outputs": [],
   "source": [
    "#df_p = df_p.with_row_index(\"rownum\",0)"
   ]
  },
  {
   "cell_type": "code",
   "execution_count": 10,
   "metadata": {},
   "outputs": [],
   "source": [
    "tree = spatial.KDTree(df_p.select(\"x\",\"y\"))"
   ]
  },
  {
   "cell_type": "code",
   "execution_count": 11,
   "metadata": {},
   "outputs": [
    {
     "data": {
      "text/plain": [
       "array([766828], dtype=int64)"
      ]
     },
     "execution_count": 11,
     "metadata": {},
     "output_type": "execute_result"
    }
   ],
   "source": [
    "tree.query(query_df_p[1])[1]"
   ]
  },
  {
   "cell_type": "code",
   "execution_count": 51,
   "metadata": {},
   "outputs": [],
   "source": [
    "for row in query_df_p.iter_rows():\n",
    "    asd = df_p[int(tree.query(row)[1])][\"weapon\"]"
   ]
  },
  {
   "cell_type": "code",
   "execution_count": 32,
   "metadata": {},
   "outputs": [],
   "source": [
    "out = []\n",
    "for row in query_df_p.iter_rows():\n",
    "    out.append({\"dist\": tree.query(row)[0], \"weapon\": tree.query(row)[1]})"
   ]
  },
  {
   "cell_type": "code",
   "execution_count": 17,
   "metadata": {},
   "outputs": [],
   "source": [
    "tree = spatial.KDTree(df_p[[\"x\",\"y\"]])\n",
    "out = []\n",
    "for row in query_df_p.iter_rows():\n",
    "    out.append({\"dist\": tree.query(row)[0], \n",
    "                \"weapon\": df_p[int(tree.query(row)[1])][\"weapon\"].item()})"
   ]
  },
  {
   "cell_type": "code",
   "execution_count": 16,
   "metadata": {},
   "outputs": [
    {
     "name": "stdout",
     "output_type": "stream",
     "text": [
      "348 ms ± 3.59 ms per loop (mean ± std. dev. of 7 runs, 1 loop each)\n"
     ]
    }
   ],
   "source": [
    "%%timeit\n",
    "tree = spatial.KDTree(df_p[[\"x\",\"y\"]])\n",
    "out = []\n",
    "for row in query_df_p.iter_rows():\n",
    "    out.append({\"dist\": tree.query(row)[0], \n",
    "                \"weapon\": df_p[int(tree.query(row)[1])][\"weapon\"].item()})"
   ]
  },
  {
   "cell_type": "code",
   "execution_count": null,
   "metadata": {},
   "outputs": [],
   "source": []
  }
 ],
 "metadata": {
  "kernelspec": {
   "display_name": "Python 3",
   "language": "python",
   "name": "python3"
  },
  "language_info": {
   "codemirror_mode": {
    "name": "ipython",
    "version": 3
   },
   "file_extension": ".py",
   "mimetype": "text/x-python",
   "name": "python",
   "nbconvert_exporter": "python",
   "pygments_lexer": "ipython3",
   "version": "3.11.4"
  },
  "orig_nbformat": 4
 },
 "nbformat": 4,
 "nbformat_minor": 2
}
