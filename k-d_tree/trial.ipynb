{
 "cells": [
  {
   "cell_type": "code",
   "execution_count": 51,
   "metadata": {},
   "outputs": [],
   "source": [
    "import pandas as pd\n",
    "import numpy as np\n",
    "from scipy import spatial\n",
    "import math\n",
    "import polars as pl"
   ]
  },
  {
   "cell_type": "code",
   "execution_count": 54,
   "metadata": {},
   "outputs": [],
   "source": [
    "df = pd.read_pickle(\"input.pickle\")\n",
    "query_df = pd.read_pickle(\"query.pickle\")\n"
   ]
  },
  {
   "cell_type": "code",
   "execution_count": 34,
   "metadata": {},
   "outputs": [],
   "source": [
    "shots = df[[\"x\",\"y\"]].to_numpy()"
   ]
  },
  {
   "cell_type": "code",
   "execution_count": 35,
   "metadata": {},
   "outputs": [
    {
     "data": {
      "text/plain": [
       "array([[69.63419583, 94.27175171],\n",
       "       [47.8454922 , 66.00813963],\n",
       "       [23.96564338, 52.0437865 ],\n",
       "       ...,\n",
       "       [55.34976791, 84.98903762],\n",
       "       [ 1.64021229,  1.21028382],\n",
       "       [90.58841013, 67.67529963]])"
      ]
     },
     "execution_count": 35,
     "metadata": {},
     "output_type": "execute_result"
    }
   ],
   "source": [
    "shots"
   ]
  },
  {
   "cell_type": "code",
   "execution_count": 43,
   "metadata": {},
   "outputs": [],
   "source": [
    "point = query_df.loc[0]"
   ]
  },
  {
   "cell_type": "code",
   "execution_count": 44,
   "metadata": {},
   "outputs": [
    {
     "data": {
      "text/plain": [
       "x    20.474901\n",
       "y    77.058193\n",
       "Name: 0, dtype: float64"
      ]
     },
     "execution_count": 44,
     "metadata": {},
     "output_type": "execute_result"
    }
   ],
   "source": [
    "point"
   ]
  },
  {
   "cell_type": "code",
   "execution_count": 45,
   "metadata": {},
   "outputs": [],
   "source": [
    "distance = spatial.KDTree(shots).query(point)[0]"
   ]
  },
  {
   "cell_type": "code",
   "execution_count": 46,
   "metadata": {},
   "outputs": [
    {
     "data": {
      "text/plain": [
       "0.07186779666948438"
      ]
     },
     "execution_count": 46,
     "metadata": {},
     "output_type": "execute_result"
    }
   ],
   "source": [
    "distance"
   ]
  },
  {
   "attachments": {},
   "cell_type": "markdown",
   "metadata": {},
   "source": [
    "### This seems to work, have to create the algorithm for it"
   ]
  },
  {
   "cell_type": "code",
   "execution_count": 41,
   "metadata": {},
   "outputs": [],
   "source": [
    "out = []\n",
    "for idx, row in query_df.iterrows():\n",
    "\n",
    "    diffs = (df[[\"x\", \"y\"]] - row).pipe(lambda df: df**2).sum(axis=1)\n",
    "    out.append({\"dist\": math.sqrt(diffs.min()), \"weapon\": df.loc[diffs.argmin(), \"weapon\"]})\n",
    "pd.DataFrame(out).to_csv(\"notebook_results/out.csv\", index=False)"
   ]
  },
  {
   "cell_type": "code",
   "execution_count": 42,
   "metadata": {},
   "outputs": [
    {
     "name": "stdout",
     "output_type": "stream",
     "text": [
      "6.42 s ± 233 ms per loop (mean ± std. dev. of 7 runs, 1 loop each)\n"
     ]
    }
   ],
   "source": [
    "%%timeit\n",
    "out = []\n",
    "for idx, row in query_df.iterrows():\n",
    "\n",
    "    diffs = (df[[\"x\", \"y\"]] - row).pipe(lambda df: df**2).sum(axis=1)\n",
    "    out.append({\"dist\": math.sqrt(diffs.min()), \"weapon\": df.loc[diffs.argmin(), \"weapon\"]})\n",
    "pd.DataFrame(out).to_csv(\"notebook_results/out.csv\", index=False)"
   ]
  },
  {
   "cell_type": "code",
   "execution_count": 57,
   "metadata": {},
   "outputs": [],
   "source": [
    "# This is 20x better than the original\n",
    "tree = spatial.KDTree(df[[\"x\",\"y\"]])\n",
    "out = []\n",
    "for idx, row in query_df.iterrows():\n",
    "    out.append({\"dist\": tree.query(row)[0], \"weapon\": df.loc[tree.query(row)[1], \"weapon\"]})\n",
    "pd.DataFrame(out).to_csv(\"notebook_results/out_tree.csv\", index=False)\n"
   ]
  },
  {
   "cell_type": "code",
   "execution_count": 58,
   "metadata": {},
   "outputs": [
    {
     "name": "stdout",
     "output_type": "stream",
     "text": [
      "329 ms ± 4.41 ms per loop (mean ± std. dev. of 7 runs, 1 loop each)\n"
     ]
    }
   ],
   "source": [
    "%%timeit\n",
    "tree = spatial.KDTree(df[[\"x\",\"y\"]])\n",
    "out = []\n",
    "for idx, row in query_df.iterrows():\n",
    "    out.append({\"dist\": tree.query(row)[0], \"weapon\": df.loc[tree.query(row)[1], \"weapon\"]})\n",
    "pd.DataFrame(out).to_csv(\"notebook_results/out_tree.csv\", index=False)"
   ]
  },
  {
   "attachments": {},
   "cell_type": "markdown",
   "metadata": {},
   "source": [
    "try with polar"
   ]
  },
  {
   "cell_type": "code",
   "execution_count": 52,
   "metadata": {},
   "outputs": [],
   "source": [
    "df = pl.read_csv(\"input.csv\")\n",
    "query_df = pl.read_csv(\"query.csv\")"
   ]
  },
  {
   "cell_type": "code",
   "execution_count": null,
   "metadata": {},
   "outputs": [],
   "source": []
  }
 ],
 "metadata": {
  "kernelspec": {
   "display_name": "Python 3",
   "language": "python",
   "name": "python3"
  },
  "language_info": {
   "codemirror_mode": {
    "name": "ipython",
    "version": 3
   },
   "file_extension": ".py",
   "mimetype": "text/x-python",
   "name": "python",
   "nbconvert_exporter": "python",
   "pygments_lexer": "ipython3",
   "version": "3.11.4"
  },
  "orig_nbformat": 4
 },
 "nbformat": 4,
 "nbformat_minor": 2
}
