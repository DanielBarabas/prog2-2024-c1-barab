{
 "cells": [
  {
   "cell_type": "code",
   "execution_count": 2,
   "metadata": {},
   "outputs": [],
   "source": [
    "import pandas as pd\n",
    "import numpy as np\n",
    "from scipy import spatial\n",
    "import polars as pl\n",
    "import random\n",
    "import os\n",
    "from sklearn.neighbors import KDTree"
   ]
  },
  {
   "cell_type": "code",
   "execution_count": 4,
   "metadata": {},
   "outputs": [],
   "source": [
    "weapons = [\"bomb\", \"rifle\", \"arrow\"]\n",
    "arr_random_input = np.random.default_rng().uniform(low=-100,high=100,size=[10_000_000,2])\n",
    "arr_random_query = np.random.default_rng().uniform(low=-100,high=100,size=[1000,2])\n",
    "df = pd.DataFrame(arr_random_input, columns=[\"x\",\"y\"])\n",
    "query_df = pd.DataFrame(arr_random_query, columns=[\"x\",\"y\"])\n",
    "df[\"weapon\"] = \"a\"\n",
    "df[\"weapon\"]=df.weapon.apply(lambda x:random.choice(weapons))\n",
    "df.to_parquet(\"notebook_results/input.parquet\")\n",
    "query_df.to_parquet(\"notebook_results/query.parquet\")"
   ]
  },
  {
   "attachments": {},
   "cell_type": "markdown",
   "metadata": {},
   "source": [
    "### Original kdtree with polars (our current best) \n",
    "does around 5.2sec (@korvó) and around 11 sec on laptp for 10Mx1000"
   ]
  },
  {
   "cell_type": "code",
   "execution_count": 5,
   "metadata": {},
   "outputs": [],
   "source": [
    "query_df_p = pl.read_parquet(\"notebook_results/query.parquet\")\n",
    "df_p = pl.read_parquet(\"notebook_results/input.parquet\")"
   ]
  },
  {
   "cell_type": "code",
   "execution_count": 6,
   "metadata": {},
   "outputs": [
    {
     "name": "stdout",
     "output_type": "stream",
     "text": [
      "10.9 s ± 685 ms per loop (mean ± std. dev. of 7 runs, 1 loop each)\n"
     ]
    }
   ],
   "source": [
    "%%timeit\n",
    "tree = spatial.KDTree(df_p[[\"x\",\"y\"]])\n",
    "out = []\n",
    "for row in query_df_p.iter_rows():\n",
    "    out.append({\"dist\": tree.query(row)[0], \n",
    "                \"weapon\": df_p[int(tree.query(row)[1])][\"weapon\"].item()})"
   ]
  },
  {
   "cell_type": "markdown",
   "metadata": {},
   "source": [
    "list comprehension is actually slower"
   ]
  },
  {
   "cell_type": "code",
   "execution_count": 10,
   "metadata": {},
   "outputs": [],
   "source": [
    "%%timeit\n",
    "tree = spatial.KDTree(df_p[[\"x\",\"y\"]])\n",
    "out = [[\"dist\",\"weapon\"]]\n",
    "out = [[dist,df_p[int(idx)][\"weapon\"]] for dist, idx in\n",
    "        zip(tree.query(query_df_p)[0], tree.query(query_df_p)[1])]"
   ]
  },
  {
   "cell_type": "code",
   "execution_count": 41,
   "metadata": {},
   "outputs": [],
   "source": [
    "tree = spatial.KDTree(df_p[[\"x\",\"y\"]])\n",
    "out = [[\"dist\",\"weapon\"]]\n",
    "out = [[dist,df_p[int(idx)][\"weapon\"]] for dist, idx in\n",
    "        zip(tree.query(query_df_p)[0], tree.query(query_df_p)[1])]"
   ]
  },
  {
   "attachments": {},
   "cell_type": "markdown",
   "metadata": {},
   "source": [
    "# New tree with polars\n",
    "tree building is around 30 sec but maybe can be exported?"
   ]
  },
  {
   "cell_type": "code",
   "execution_count": 44,
   "metadata": {},
   "outputs": [],
   "source": [
    "tree = KDTree(df_p[[\"x\",\"y\"]],leaf_size=10)\n",
    "out = []\n"
   ]
  },
  {
   "cell_type": "markdown",
   "metadata": {},
   "source": [
    "querying looks reasonably fast"
   ]
  },
  {
   "cell_type": "code",
   "execution_count": 33,
   "metadata": {},
   "outputs": [],
   "source": [
    "for row in query_df_p.iter_rows():\n",
    "    out.append({\"dist\": tree.query([row])[0][0][0], \n",
    "                \"weapon\": df_p[int(tree.query([row])[1][0][0])][\"weapon\"].item()})"
   ]
  },
  {
   "cell_type": "markdown",
   "metadata": {},
   "source": [
    "trying to export tree"
   ]
  },
  {
   "cell_type": "code",
   "execution_count": 37,
   "metadata": {},
   "outputs": [],
   "source": [
    "from joblib import dump\n",
    "from joblib import load"
   ]
  },
  {
   "cell_type": "code",
   "execution_count": 45,
   "metadata": {},
   "outputs": [
    {
     "data": {
      "text/plain": [
       "['notebook_results/sklearn_tree.joblib']"
      ]
     },
     "execution_count": 45,
     "metadata": {},
     "output_type": "execute_result"
    }
   ],
   "source": [
    "dump(tree,\"notebook_results/sklearn_tree.joblib\")"
   ]
  },
  {
   "cell_type": "code",
   "execution_count": 46,
   "metadata": {},
   "outputs": [],
   "source": [
    "imported_tree = load(\"notebook_results/sklearn_tree.joblib\")"
   ]
  },
  {
   "cell_type": "code",
   "execution_count": 47,
   "metadata": {},
   "outputs": [],
   "source": [
    "for row in query_df_p.iter_rows():\n",
    "    out.append({\"dist\": imported_tree.query([row])[0][0][0], \n",
    "                \"weapon\": df_p[int(imported_tree.query([row])[1][0][0])][\"weapon\"].item()})"
   ]
  },
  {
   "cell_type": "code",
   "execution_count": null,
   "metadata": {},
   "outputs": [],
   "source": []
  }
 ],
 "metadata": {
  "kernelspec": {
   "display_name": "Python 3",
   "language": "python",
   "name": "python3"
  },
  "language_info": {
   "codemirror_mode": {
    "name": "ipython",
    "version": 3
   },
   "file_extension": ".py",
   "mimetype": "text/x-python",
   "name": "python",
   "nbconvert_exporter": "python",
   "pygments_lexer": "ipython3",
   "version": "3.11.5"
  },
  "orig_nbformat": 4
 },
 "nbformat": 4,
 "nbformat_minor": 2
}
